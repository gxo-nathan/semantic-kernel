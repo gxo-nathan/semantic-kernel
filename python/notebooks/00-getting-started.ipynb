{
 "cells": [
  {
   "attachments": {},
   "cell_type": "markdown",
   "metadata": {},
   "source": [
    "# Setup\n",
    "\n",
    "**Step 1**: Import Semantic Kernel SDK from pypi.org"
   ]
  },
  {
   "cell_type": "code",
   "execution_count": 1,
   "metadata": {},
   "outputs": [
    {
     "name": "stdout",
     "output_type": "stream",
     "text": [
      "Requirement already satisfied: semantic-kernel==0.5.0.dev0 in c:\\users\\nathan.clarke001\\appdata\\local\\programs\\python\\python312\\lib\\site-packages (0.5.0.dev0)\n",
      "Requirement already satisfied: aiofiles<24.0.0,>=23.1.0 in c:\\users\\nathan.clarke001\\appdata\\local\\programs\\python\\python312\\lib\\site-packages (from semantic-kernel==0.5.0.dev0) (23.2.1)\n",
      "Requirement already satisfied: aiohttp<4.0,>=3.8 in c:\\users\\nathan.clarke001\\appdata\\local\\programs\\python\\python312\\lib\\site-packages (from semantic-kernel==0.5.0.dev0) (3.9.3)\n",
      "Requirement already satisfied: motor<4.0.0,>=3.3.1 in c:\\users\\nathan.clarke001\\appdata\\local\\programs\\python\\python312\\lib\\site-packages (from semantic-kernel==0.5.0.dev0) (3.3.2)\n",
      "Requirement already satisfied: numpy<2.0.0,>=1.24.2 in c:\\users\\nathan.clarke001\\appdata\\local\\programs\\python\\python312\\lib\\site-packages (from semantic-kernel==0.5.0.dev0) (1.26.3)\n",
      "Requirement already satisfied: openai>=1.0 in c:\\users\\nathan.clarke001\\appdata\\local\\programs\\python\\python312\\lib\\site-packages (from semantic-kernel==0.5.0.dev0) (1.11.1)\n",
      "Requirement already satisfied: openapi_core<0.19.0,>=0.18.0 in c:\\users\\nathan.clarke001\\appdata\\local\\programs\\python\\python312\\lib\\site-packages (from semantic-kernel==0.5.0.dev0) (0.18.2)\n",
      "Requirement already satisfied: prance<24.0.0.0,>=23.6.21.0 in c:\\users\\nathan.clarke001\\appdata\\local\\programs\\python\\python312\\lib\\site-packages (from semantic-kernel==0.5.0.dev0) (23.6.21.0)\n",
      "Requirement already satisfied: pydantic>2 in c:\\users\\nathan.clarke001\\appdata\\local\\programs\\python\\python312\\lib\\site-packages (from semantic-kernel==0.5.0.dev0) (2.6.0)\n",
      "Requirement already satisfied: python-dotenv==1.0.0 in c:\\users\\nathan.clarke001\\appdata\\local\\programs\\python\\python312\\lib\\site-packages (from semantic-kernel==0.5.0.dev0) (1.0.0)\n",
      "Requirement already satisfied: regex<2024.0.0,>=2023.6.3 in c:\\users\\nathan.clarke001\\appdata\\local\\programs\\python\\python312\\lib\\site-packages (from semantic-kernel==0.5.0.dev0) (2023.12.25)\n",
      "Requirement already satisfied: aiosignal>=1.1.2 in c:\\users\\nathan.clarke001\\appdata\\local\\programs\\python\\python312\\lib\\site-packages (from aiohttp<4.0,>=3.8->semantic-kernel==0.5.0.dev0) (1.3.1)\n",
      "Requirement already satisfied: attrs>=17.3.0 in c:\\users\\nathan.clarke001\\appdata\\local\\programs\\python\\python312\\lib\\site-packages (from aiohttp<4.0,>=3.8->semantic-kernel==0.5.0.dev0) (23.2.0)\n",
      "Requirement already satisfied: frozenlist>=1.1.1 in c:\\users\\nathan.clarke001\\appdata\\local\\programs\\python\\python312\\lib\\site-packages (from aiohttp<4.0,>=3.8->semantic-kernel==0.5.0.dev0) (1.4.1)\n",
      "Requirement already satisfied: multidict<7.0,>=4.5 in c:\\users\\nathan.clarke001\\appdata\\local\\programs\\python\\python312\\lib\\site-packages (from aiohttp<4.0,>=3.8->semantic-kernel==0.5.0.dev0) (6.0.5)\n",
      "Requirement already satisfied: yarl<2.0,>=1.0 in c:\\users\\nathan.clarke001\\appdata\\local\\programs\\python\\python312\\lib\\site-packages (from aiohttp<4.0,>=3.8->semantic-kernel==0.5.0.dev0) (1.9.4)\n",
      "Requirement already satisfied: pymongo<5,>=4.5 in c:\\users\\nathan.clarke001\\appdata\\local\\programs\\python\\python312\\lib\\site-packages (from motor<4.0.0,>=3.3.1->semantic-kernel==0.5.0.dev0) (4.6.1)\n",
      "Requirement already satisfied: anyio<5,>=3.5.0 in c:\\users\\nathan.clarke001\\appdata\\local\\programs\\python\\python312\\lib\\site-packages (from openai>=1.0->semantic-kernel==0.5.0.dev0) (4.2.0)\n",
      "Requirement already satisfied: distro<2,>=1.7.0 in c:\\users\\nathan.clarke001\\appdata\\local\\programs\\python\\python312\\lib\\site-packages (from openai>=1.0->semantic-kernel==0.5.0.dev0) (1.9.0)\n",
      "Requirement already satisfied: httpx<1,>=0.23.0 in c:\\users\\nathan.clarke001\\appdata\\local\\programs\\python\\python312\\lib\\site-packages (from openai>=1.0->semantic-kernel==0.5.0.dev0) (0.26.0)\n",
      "Requirement already satisfied: sniffio in c:\\users\\nathan.clarke001\\appdata\\local\\programs\\python\\python312\\lib\\site-packages (from openai>=1.0->semantic-kernel==0.5.0.dev0) (1.3.0)\n",
      "Requirement already satisfied: tqdm>4 in c:\\users\\nathan.clarke001\\appdata\\local\\programs\\python\\python312\\lib\\site-packages (from openai>=1.0->semantic-kernel==0.5.0.dev0) (4.66.1)\n",
      "Requirement already satisfied: typing-extensions<5,>=4.7 in c:\\users\\nathan.clarke001\\appdata\\local\\programs\\python\\python312\\lib\\site-packages (from openai>=1.0->semantic-kernel==0.5.0.dev0) (4.9.0)\n",
      "Requirement already satisfied: asgiref<4.0.0,>=3.6.0 in c:\\users\\nathan.clarke001\\appdata\\local\\programs\\python\\python312\\lib\\site-packages (from openapi_core<0.19.0,>=0.18.0->semantic-kernel==0.5.0.dev0) (3.7.2)\n",
      "Requirement already satisfied: isodate in c:\\users\\nathan.clarke001\\appdata\\local\\programs\\python\\python312\\lib\\site-packages (from openapi_core<0.19.0,>=0.18.0->semantic-kernel==0.5.0.dev0) (0.6.1)\n",
      "Requirement already satisfied: jsonschema<5.0.0,>=4.18.0 in c:\\users\\nathan.clarke001\\appdata\\local\\programs\\python\\python312\\lib\\site-packages (from openapi_core<0.19.0,>=0.18.0->semantic-kernel==0.5.0.dev0) (4.21.1)\n",
      "Requirement already satisfied: jsonschema-spec<0.3.0,>=0.2.3 in c:\\users\\nathan.clarke001\\appdata\\local\\programs\\python\\python312\\lib\\site-packages (from openapi_core<0.19.0,>=0.18.0->semantic-kernel==0.5.0.dev0) (0.2.4)\n",
      "Requirement already satisfied: more-itertools in c:\\users\\nathan.clarke001\\appdata\\local\\programs\\python\\python312\\lib\\site-packages (from openapi_core<0.19.0,>=0.18.0->semantic-kernel==0.5.0.dev0) (10.2.0)\n",
      "Requirement already satisfied: openapi-schema-validator<0.7.0,>=0.6.0 in c:\\users\\nathan.clarke001\\appdata\\local\\programs\\python\\python312\\lib\\site-packages (from openapi_core<0.19.0,>=0.18.0->semantic-kernel==0.5.0.dev0) (0.6.2)\n",
      "Requirement already satisfied: openapi-spec-validator<0.8.0,>=0.7.1 in c:\\users\\nathan.clarke001\\appdata\\local\\programs\\python\\python312\\lib\\site-packages (from openapi_core<0.19.0,>=0.18.0->semantic-kernel==0.5.0.dev0) (0.7.1)\n",
      "Requirement already satisfied: parse in c:\\users\\nathan.clarke001\\appdata\\local\\programs\\python\\python312\\lib\\site-packages (from openapi_core<0.19.0,>=0.18.0->semantic-kernel==0.5.0.dev0) (1.20.1)\n",
      "Requirement already satisfied: werkzeug in c:\\users\\nathan.clarke001\\appdata\\local\\programs\\python\\python312\\lib\\site-packages (from openapi_core<0.19.0,>=0.18.0->semantic-kernel==0.5.0.dev0) (3.0.1)\n",
      "Requirement already satisfied: chardet>=3.0 in c:\\users\\nathan.clarke001\\appdata\\local\\programs\\python\\python312\\lib\\site-packages (from prance<24.0.0.0,>=23.6.21.0->semantic-kernel==0.5.0.dev0) (5.2.0)\n",
      "Requirement already satisfied: ruamel.yaml>=0.17.10 in c:\\users\\nathan.clarke001\\appdata\\local\\programs\\python\\python312\\lib\\site-packages (from prance<24.0.0.0,>=23.6.21.0->semantic-kernel==0.5.0.dev0) (0.18.5)\n",
      "Requirement already satisfied: requests>=2.25 in c:\\users\\nathan.clarke001\\appdata\\local\\programs\\python\\python312\\lib\\site-packages (from prance<24.0.0.0,>=23.6.21.0->semantic-kernel==0.5.0.dev0) (2.31.0)\n",
      "Requirement already satisfied: six~=1.15 in c:\\users\\nathan.clarke001\\appdata\\roaming\\python\\python312\\site-packages (from prance<24.0.0.0,>=23.6.21.0->semantic-kernel==0.5.0.dev0) (1.16.0)\n",
      "Requirement already satisfied: packaging>=21.3 in c:\\users\\nathan.clarke001\\appdata\\roaming\\python\\python312\\site-packages (from prance<24.0.0.0,>=23.6.21.0->semantic-kernel==0.5.0.dev0) (23.2)\n",
      "Requirement already satisfied: annotated-types>=0.4.0 in c:\\users\\nathan.clarke001\\appdata\\local\\programs\\python\\python312\\lib\\site-packages (from pydantic>2->semantic-kernel==0.5.0.dev0) (0.6.0)\n",
      "Requirement already satisfied: pydantic-core==2.16.1 in c:\\users\\nathan.clarke001\\appdata\\local\\programs\\python\\python312\\lib\\site-packages (from pydantic>2->semantic-kernel==0.5.0.dev0) (2.16.1)\n",
      "Requirement already satisfied: idna>=2.8 in c:\\users\\nathan.clarke001\\appdata\\local\\programs\\python\\python312\\lib\\site-packages (from anyio<5,>=3.5.0->openai>=1.0->semantic-kernel==0.5.0.dev0) (3.6)\n",
      "Requirement already satisfied: certifi in c:\\users\\nathan.clarke001\\appdata\\local\\programs\\python\\python312\\lib\\site-packages (from httpx<1,>=0.23.0->openai>=1.0->semantic-kernel==0.5.0.dev0) (2024.2.2)\n",
      "Requirement already satisfied: httpcore==1.* in c:\\users\\nathan.clarke001\\appdata\\local\\programs\\python\\python312\\lib\\site-packages (from httpx<1,>=0.23.0->openai>=1.0->semantic-kernel==0.5.0.dev0) (1.0.2)\n",
      "Requirement already satisfied: h11<0.15,>=0.13 in c:\\users\\nathan.clarke001\\appdata\\local\\programs\\python\\python312\\lib\\site-packages (from httpcore==1.*->httpx<1,>=0.23.0->openai>=1.0->semantic-kernel==0.5.0.dev0) (0.14.0)\n",
      "Requirement already satisfied: jsonschema-specifications>=2023.03.6 in c:\\users\\nathan.clarke001\\appdata\\local\\programs\\python\\python312\\lib\\site-packages (from jsonschema<5.0.0,>=4.18.0->openapi_core<0.19.0,>=0.18.0->semantic-kernel==0.5.0.dev0) (2023.7.1)\n",
      "Requirement already satisfied: referencing>=0.28.4 in c:\\users\\nathan.clarke001\\appdata\\local\\programs\\python\\python312\\lib\\site-packages (from jsonschema<5.0.0,>=4.18.0->openapi_core<0.19.0,>=0.18.0->semantic-kernel==0.5.0.dev0) (0.30.2)\n",
      "Requirement already satisfied: rpds-py>=0.7.1 in c:\\users\\nathan.clarke001\\appdata\\local\\programs\\python\\python312\\lib\\site-packages (from jsonschema<5.0.0,>=4.18.0->openapi_core<0.19.0,>=0.18.0->semantic-kernel==0.5.0.dev0) (0.17.1)\n",
      "Requirement already satisfied: PyYAML>=5.1 in c:\\users\\nathan.clarke001\\appdata\\local\\programs\\python\\python312\\lib\\site-packages (from jsonschema-spec<0.3.0,>=0.2.3->openapi_core<0.19.0,>=0.18.0->semantic-kernel==0.5.0.dev0) (6.0.1)\n",
      "Requirement already satisfied: pathable<0.5.0,>=0.4.1 in c:\\users\\nathan.clarke001\\appdata\\local\\programs\\python\\python312\\lib\\site-packages (from jsonschema-spec<0.3.0,>=0.2.3->openapi_core<0.19.0,>=0.18.0->semantic-kernel==0.5.0.dev0) (0.4.3)\n",
      "Requirement already satisfied: rfc3339-validator in c:\\users\\nathan.clarke001\\appdata\\local\\programs\\python\\python312\\lib\\site-packages (from openapi-schema-validator<0.7.0,>=0.6.0->openapi_core<0.19.0,>=0.18.0->semantic-kernel==0.5.0.dev0) (0.1.4)\n",
      "Requirement already satisfied: jsonschema-path<0.4.0,>=0.3.1 in c:\\users\\nathan.clarke001\\appdata\\local\\programs\\python\\python312\\lib\\site-packages (from openapi-spec-validator<0.8.0,>=0.7.1->openapi_core<0.19.0,>=0.18.0->semantic-kernel==0.5.0.dev0) (0.3.2)\n",
      "Requirement already satisfied: lazy-object-proxy<2.0.0,>=1.7.1 in c:\\users\\nathan.clarke001\\appdata\\local\\programs\\python\\python312\\lib\\site-packages (from openapi-spec-validator<0.8.0,>=0.7.1->openapi_core<0.19.0,>=0.18.0->semantic-kernel==0.5.0.dev0) (1.10.0)\n",
      "Requirement already satisfied: dnspython<3.0.0,>=1.16.0 in c:\\users\\nathan.clarke001\\appdata\\local\\programs\\python\\python312\\lib\\site-packages (from pymongo<5,>=4.5->motor<4.0.0,>=3.3.1->semantic-kernel==0.5.0.dev0) (2.5.0)\n",
      "Requirement already satisfied: charset-normalizer<4,>=2 in c:\\users\\nathan.clarke001\\appdata\\local\\programs\\python\\python312\\lib\\site-packages (from requests>=2.25->prance<24.0.0.0,>=23.6.21.0->semantic-kernel==0.5.0.dev0) (3.3.2)\n",
      "Requirement already satisfied: urllib3<3,>=1.21.1 in c:\\users\\nathan.clarke001\\appdata\\local\\programs\\python\\python312\\lib\\site-packages (from requests>=2.25->prance<24.0.0.0,>=23.6.21.0->semantic-kernel==0.5.0.dev0) (2.2.0)\n",
      "Requirement already satisfied: ruamel.yaml.clib>=0.2.7 in c:\\users\\nathan.clarke001\\appdata\\local\\programs\\python\\python312\\lib\\site-packages (from ruamel.yaml>=0.17.10->prance<24.0.0.0,>=23.6.21.0->semantic-kernel==0.5.0.dev0) (0.2.8)\n",
      "Requirement already satisfied: colorama in c:\\users\\nathan.clarke001\\appdata\\roaming\\python\\python312\\site-packages (from tqdm>4->openai>=1.0->semantic-kernel==0.5.0.dev0) (0.4.6)\n",
      "Requirement already satisfied: MarkupSafe>=2.1.1 in c:\\users\\nathan.clarke001\\appdata\\local\\programs\\python\\python312\\lib\\site-packages (from werkzeug->openapi_core<0.19.0,>=0.18.0->semantic-kernel==0.5.0.dev0) (2.1.5)\n"
     ]
    },
    {
     "name": "stderr",
     "output_type": "stream",
     "text": [
      "\n",
      "[notice] A new release of pip is available: 23.2.1 -> 24.0\n",
      "[notice] To update, run: python.exe -m pip install --upgrade pip\n"
     ]
    }
   ],
   "source": [
    "!python -m pip install semantic-kernel==0.5.0.dev0"
   ]
  },
  {
   "cell_type": "code",
   "execution_count": 1,
   "metadata": {},
   "outputs": [],
   "source": [
    "import semantic_kernel as sk\n",
    "\n",
    "kernel = sk.Kernel()"
   ]
  },
  {
   "attachments": {},
   "cell_type": "markdown",
   "metadata": {},
   "source": [
    "## Option 1: using OpenAI\n",
    "\n",
    "**Step 2**: Add your [OpenAI Key](https://openai.com/product/) key to a `.env` file in the same folder (org Id only if you have multiple orgs):\n",
    "\n",
    "```\n",
    "OPENAI_API_KEY=\"sk-...\"\n",
    "OPENAI_ORG_ID=\"\"\n",
    "```\n",
    "\n",
    "Use \"keyword arguments\" to instantiate an OpenAI Chat Completion service and add it to the kernel:"
   ]
  },
  {
   "cell_type": "code",
   "execution_count": 4,
   "metadata": {},
   "outputs": [
    {
     "ename": "AssertionError",
     "evalue": "OpenAI API key not found in .env file",
     "output_type": "error",
     "traceback": [
      "\u001b[1;31m---------------------------------------------------------------------------\u001b[0m",
      "\u001b[1;31mAssertionError\u001b[0m                            Traceback (most recent call last)",
      "Cell \u001b[1;32mIn[4], line 3\u001b[0m\n\u001b[0;32m      1\u001b[0m \u001b[38;5;28;01mfrom\u001b[39;00m \u001b[38;5;21;01msemantic_kernel\u001b[39;00m\u001b[38;5;21;01m.\u001b[39;00m\u001b[38;5;21;01mconnectors\u001b[39;00m\u001b[38;5;21;01m.\u001b[39;00m\u001b[38;5;21;01mai\u001b[39;00m\u001b[38;5;21;01m.\u001b[39;00m\u001b[38;5;21;01mopen_ai\u001b[39;00m \u001b[38;5;28;01mimport\u001b[39;00m OpenAIChatCompletion\n\u001b[1;32m----> 3\u001b[0m api_key, org_id \u001b[38;5;241m=\u001b[39m \u001b[43msk\u001b[49m\u001b[38;5;241;43m.\u001b[39;49m\u001b[43mopenai_settings_from_dot_env\u001b[49m\u001b[43m(\u001b[49m\u001b[43m)\u001b[49m\n\u001b[0;32m      5\u001b[0m kernel\u001b[38;5;241m.\u001b[39madd_chat_service(\n\u001b[0;32m      6\u001b[0m     \u001b[38;5;124m\"\u001b[39m\u001b[38;5;124mchat-gpt\u001b[39m\u001b[38;5;124m\"\u001b[39m,\n\u001b[0;32m      7\u001b[0m     OpenAIChatCompletion(ai_model_id\u001b[38;5;241m=\u001b[39m\u001b[38;5;124m\"\u001b[39m\u001b[38;5;124mgpt-3.5-turbo-1106\u001b[39m\u001b[38;5;124m\"\u001b[39m, api_key\u001b[38;5;241m=\u001b[39mapi_key, org_id\u001b[38;5;241m=\u001b[39morg_id),\n\u001b[0;32m      8\u001b[0m )\n",
      "File \u001b[1;32mc:\\Users\\nathan.clarke001\\AppData\\Local\\Programs\\Python\\Python312\\Lib\\site-packages\\semantic_kernel\\utils\\settings.py:20\u001b[0m, in \u001b[0;36mopenai_settings_from_dot_env\u001b[1;34m()\u001b[0m\n\u001b[0;32m     17\u001b[0m api_key \u001b[38;5;241m=\u001b[39m config\u001b[38;5;241m.\u001b[39mget(\u001b[38;5;124m\"\u001b[39m\u001b[38;5;124mOPENAI_API_KEY\u001b[39m\u001b[38;5;124m\"\u001b[39m, \u001b[38;5;28;01mNone\u001b[39;00m)\n\u001b[0;32m     18\u001b[0m org_id \u001b[38;5;241m=\u001b[39m config\u001b[38;5;241m.\u001b[39mget(\u001b[38;5;124m\"\u001b[39m\u001b[38;5;124mOPENAI_ORG_ID\u001b[39m\u001b[38;5;124m\"\u001b[39m, \u001b[38;5;28;01mNone\u001b[39;00m)\n\u001b[1;32m---> 20\u001b[0m \u001b[38;5;28;01massert\u001b[39;00m api_key, \u001b[38;5;124m\"\u001b[39m\u001b[38;5;124mOpenAI API key not found in .env file\u001b[39m\u001b[38;5;124m\"\u001b[39m\n\u001b[0;32m     22\u001b[0m \u001b[38;5;66;03m# It's okay if the org ID is not found (not required)\u001b[39;00m\n\u001b[0;32m     23\u001b[0m \u001b[38;5;28;01mreturn\u001b[39;00m api_key, org_id\n",
      "\u001b[1;31mAssertionError\u001b[0m: OpenAI API key not found in .env file"
     ]
    }
   ],
   "source": [
    "from semantic_kernel.connectors.ai.open_ai import OpenAIChatCompletion\n",
    "\n",
    "api_key, org_id = sk.openai_settings_from_dot_env()\n",
    "\n",
    "kernel.add_chat_service(\n",
    "    \"chat-gpt\",\n",
    "    OpenAIChatCompletion(ai_model_id=\"gpt-3.5-turbo-1106\", api_key=api_key, org_id=org_id),\n",
    ")"
   ]
  },
  {
   "attachments": {},
   "cell_type": "markdown",
   "metadata": {},
   "source": [
    "## Option 2: using Azure OpenAI\n",
    "\n",
    "**Step 2**: Add your [Azure Open AI Service key](https://learn.microsoft.com/azure/cognitive-services/openai/quickstart?pivots=programming-language-studio) settings to a `.env` file in the same folder:\n",
    "\n",
    "```\n",
    "AZURE_OPENAI_API_KEY=\"...\"\n",
    "AZURE_OPENAI_ENDPOINT=\"https://...\"\n",
    "AZURE_OPENAI_DEPLOYMENT_NAME=\"...\"\n",
    "```\n",
    "\n",
    "Use \"keyword arguments\" to instantiate an Azure OpenAI Chat Completion service and add it to the kernel:"
   ]
  },
  {
   "cell_type": "code",
   "execution_count": 3,
   "metadata": {},
   "outputs": [
    {
     "ename": "AssertionError",
     "evalue": "Azure OpenAI deployment name not found in .env file",
     "output_type": "error",
     "traceback": [
      "\u001b[1;31m---------------------------------------------------------------------------\u001b[0m",
      "\u001b[1;31mAssertionError\u001b[0m                            Traceback (most recent call last)",
      "Cell \u001b[1;32mIn[3], line 3\u001b[0m\n\u001b[0;32m      1\u001b[0m \u001b[38;5;28;01mfrom\u001b[39;00m \u001b[38;5;21;01msemantic_kernel\u001b[39;00m\u001b[38;5;21;01m.\u001b[39;00m\u001b[38;5;21;01mconnectors\u001b[39;00m\u001b[38;5;21;01m.\u001b[39;00m\u001b[38;5;21;01mai\u001b[39;00m\u001b[38;5;21;01m.\u001b[39;00m\u001b[38;5;21;01mopen_ai\u001b[39;00m \u001b[38;5;28;01mimport\u001b[39;00m AzureChatCompletion\n\u001b[1;32m----> 3\u001b[0m deployment, api_key, endpoint \u001b[38;5;241m=\u001b[39m \u001b[43msk\u001b[49m\u001b[38;5;241;43m.\u001b[39;49m\u001b[43mazure_openai_settings_from_dot_env\u001b[49m\u001b[43m(\u001b[49m\u001b[43m)\u001b[49m\n\u001b[0;32m      5\u001b[0m kernel\u001b[38;5;241m.\u001b[39madd_chat_service(\n\u001b[0;32m      6\u001b[0m     \u001b[38;5;124m\"\u001b[39m\u001b[38;5;124mchat_completion\u001b[39m\u001b[38;5;124m\"\u001b[39m,\n\u001b[0;32m      7\u001b[0m     AzureChatCompletion(deployment_name\u001b[38;5;241m=\u001b[39mdeployment, endpoint\u001b[38;5;241m=\u001b[39mendpoint, api_key\u001b[38;5;241m=\u001b[39mapi_key),\n\u001b[0;32m      8\u001b[0m )\n",
      "File \u001b[1;32mc:\\Users\\nathan.clarke001\\AppData\\Local\\Programs\\Python\\Python312\\Lib\\site-packages\\semantic_kernel\\utils\\settings.py:51\u001b[0m, in \u001b[0;36mazure_openai_settings_from_dot_env\u001b[1;34m(include_deployment, include_api_version)\u001b[0m\n\u001b[0;32m     49\u001b[0m \u001b[38;5;66;03m# Azure requires the deployment name, the API key and the endpoint URL.\u001b[39;00m\n\u001b[0;32m     50\u001b[0m \u001b[38;5;28;01mif\u001b[39;00m include_deployment:\n\u001b[1;32m---> 51\u001b[0m     \u001b[38;5;28;01massert\u001b[39;00m deployment \u001b[38;5;129;01mis\u001b[39;00m \u001b[38;5;129;01mnot\u001b[39;00m \u001b[38;5;28;01mNone\u001b[39;00m, \u001b[38;5;124m\"\u001b[39m\u001b[38;5;124mAzure OpenAI deployment name not found in .env file\u001b[39m\u001b[38;5;124m\"\u001b[39m\n\u001b[0;32m     52\u001b[0m \u001b[38;5;28;01mif\u001b[39;00m include_api_version:\n\u001b[0;32m     53\u001b[0m     \u001b[38;5;28;01massert\u001b[39;00m api_version \u001b[38;5;129;01mis\u001b[39;00m \u001b[38;5;129;01mnot\u001b[39;00m \u001b[38;5;28;01mNone\u001b[39;00m, \u001b[38;5;124m\"\u001b[39m\u001b[38;5;124mAzure OpenAI API version not found in .env file\u001b[39m\u001b[38;5;124m\"\u001b[39m\n",
      "\u001b[1;31mAssertionError\u001b[0m: Azure OpenAI deployment name not found in .env file"
     ]
    }
   ],
   "source": [
    "from semantic_kernel.connectors.ai.open_ai import AzureChatCompletion\n",
    "\n",
    "deployment, api_key, endpoint = sk.azure_openai_settings_from_dot_env()\n",
    "\n",
    "kernel.add_chat_service(\n",
    "    \"chat_completion\",\n",
    "    AzureChatCompletion(deployment_name=deployment, endpoint=endpoint, api_key=api_key),\n",
    ")"
   ]
  },
  {
   "cell_type": "markdown",
   "metadata": {},
   "source": []
  },
  {
   "attachments": {},
   "cell_type": "markdown",
   "metadata": {},
   "source": [
    "# Run a Semantic Function\n",
    "\n",
    "**Step 3**: Load a Plugin and run a semantic function:"
   ]
  },
  {
   "cell_type": "code",
   "execution_count": null,
   "metadata": {},
   "outputs": [],
   "source": [
    "plugin = kernel.import_semantic_plugin_from_directory(\"../../samples/plugins\", \"FunPlugin\")\n",
    "joke_function = plugin[\"Joke\"]\n",
    "\n",
    "print(await joke_function(\"time travel to dinosaur age\"))"
   ]
  }
 ],
 "metadata": {
  "kernelspec": {
   "display_name": "Python 3 (ipykernel)",
   "language": "python",
   "name": "python3"
  },
  "language_info": {
   "codemirror_mode": {
    "name": "ipython",
    "version": 3
   },
   "file_extension": ".py",
   "mimetype": "text/x-python",
   "name": "python",
   "nbconvert_exporter": "python",
   "pygments_lexer": "ipython3",
   "version": "3.12.1"
  }
 },
 "nbformat": 4,
 "nbformat_minor": 2
}
